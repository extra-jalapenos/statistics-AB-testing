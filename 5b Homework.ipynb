{
 "cells": [
  {
   "cell_type": "markdown",
   "id": "9d17a8dd-b145-4cef-aa31-8e1b0b2a5d13",
   "metadata": {},
   "source": [
    "# AB Test Case Study"
   ]
  },
  {
   "cell_type": "markdown",
   "id": "c1ea4b50-4545-4271-840b-187a4b464bed",
   "metadata": {},
   "source": [
    "### Homework"
   ]
  },
  {
   "cell_type": "markdown",
   "id": "04f7e232-fd68-47a1-9a64-cf798e694be1",
   "metadata": {},
   "source": [
    "Before you begin, remember to import the necessary libraries."
   ]
  },
  {
   "cell_type": "code",
   "execution_count": 1,
   "id": "adc6ceaa-c8cc-42b3-b9bf-6a45c3cc7a2e",
   "metadata": {},
   "outputs": [],
   "source": [
    "import pandas as pd\n",
    "import numpy as np\n",
    "from scipy import stats\n",
    "\n",
    "import matplotlib.pyplot as plt\n",
    "import seaborn as sns\n",
    "sns.set_theme()"
   ]
  },
  {
   "cell_type": "markdown",
   "id": "afc95414-f92a-4d41-98e9-ddc16fce501c",
   "metadata": {},
   "source": [
    "The Marketing and Product teams are studying a new bundle-offer that they want to test in the checkout funnel of the e-commerce platform. In particular, once the user adds something to the cart, they will see an additional screen showing a special offer on a related product if they add it to the cart and purchase them together. \n",
    "\n",
    "To be sure that this is a good idea, they conducted an AB test and, after the fact, they call you in to analyse the results, to verify whether the increased conversion rate is statistically significant. \n",
    "\n",
    "1. The test results are in the `data/ab-test-homework.csv` csv file. Import them, familiarise yourself with the data and perform a permutation test to assess wether the treatment's higher conversion rate is statistically significant (note: control group = 'GRP A'; treatment group = 'GRP B'). \n",
    "2. Are you satisfied with the results? If you would have been consulted before the test, would you have done things differently?"
   ]
  },
  {
   "cell_type": "markdown",
   "id": "2beb47a6-466f-4c4a-918d-55c6347ed327",
   "metadata": {},
   "source": [
    "***"
   ]
  },
  {
   "cell_type": "code",
   "execution_count": null,
   "id": "ab225ca0-8fe8-462e-8c83-a0a2df6c63e3",
   "metadata": {},
   "outputs": [],
   "source": []
  }
 ],
 "metadata": {
  "kernelspec": {
   "display_name": "Python 3 (ipykernel)",
   "language": "python",
   "name": "python3"
  },
  "language_info": {
   "codemirror_mode": {
    "name": "ipython",
    "version": 3
   },
   "file_extension": ".py",
   "mimetype": "text/x-python",
   "name": "python",
   "nbconvert_exporter": "python",
   "pygments_lexer": "ipython3",
   "version": "3.9.7"
  }
 },
 "nbformat": 4,
 "nbformat_minor": 5
}
